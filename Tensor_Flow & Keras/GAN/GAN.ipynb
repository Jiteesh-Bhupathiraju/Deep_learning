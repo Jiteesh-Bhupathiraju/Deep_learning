{
 "cells": [
  {
   "cell_type": "code",
   "execution_count": 1,
   "metadata": {
    "collapsed": true
   },
   "outputs": [],
   "source": [
    "import tensorflow as tf\n",
    "import numpy as np\n",
    "import matplotlib.pyplot as plt\n",
    "%matplotlib inline\n",
    "from tensorflow.examples.tutorials.mnist import input_data"
   ]
  },
  {
   "cell_type": "code",
   "execution_count": 7,
   "metadata": {
    "collapsed": true
   },
   "outputs": [],
   "source": [
    "mnist = input_data.read_data_sets(\"MNIST_DATA/\", one_hot=True)"
   ]
  },
  {
   "cell_type": "code",
   "execution_count": 8,
   "metadata": {},
   "outputs": [
    {
     "data": {
      "text/plain": [
       "<matplotlib.image.AxesImage at 0x7fec3a8e4b00>"
      ]
     },
     "execution_count": 8,
     "metadata": {},
     "output_type": "execute_result"
    },
    {
     "data": {
      "image/png": "[encoded data removed]",
      "text/plain": [
       "<matplotlib.figure.Figure at 0x7fec43e08e10>"
      ]
     },
     "metadata": {},
     "output_type": "display_data"
    }
   ],
   "source": [
    "'''sample data'''\n",
    "\n",
    "plt.imshow(mnist.train.images[14].reshape(28,28), cmap='Greys')"
   ]
  },
  {
   "cell_type": "code",
   "execution_count": 9,
   "metadata": {
    "collapsed": true
   },
   "outputs": [],
   "source": [
    "'''generator neural network'''\n",
    "\n",
    "def generator(z, reuse=None):\n",
    "    with tf.variable_scope('gen', reuse=reuse):\n",
    "        h1 = tf.layers.dense(inputs=z,units=128)\n",
    "        alpha = 0.01\n",
    "        h1 = tf.maximum(alpha*h1,h1)\n",
    "        h2 = tf.layers.dense(inputs=h1,units=128)\n",
    "        h2 = tf.maximum(alpha*h2,h2)\n",
    "\n",
    "        opt = tf.layers.dense(h2,units=784,activation=tf.nn.tanh)\n",
    "\n",
    "        return opt"
   ]
  },
  {
   "cell_type": "code",
   "execution_count": 10,
   "metadata": {
    "collapsed": true
   },
   "outputs": [],
   "source": [
    "'''discriminator neural network'''\n",
    "\n",
    "def discriminator(z,reuse=None):\n",
    "    with tf.variable_scope('dis', reuse=reuse):\n",
    "        h1 = tf.layers.dense(inputs=z,units=128)\n",
    "        alpha = 0.01\n",
    "        h1 = tf.maximum(alpha*h1,h1)\n",
    "        h2 = tf.layers.dense(inputs=h1,units=128)\n",
    "        h2 = tf.maximum(alpha*h2,h2)\n",
    "\n",
    "        logits = tf.layers.dense(h2,units=1)\n",
    "        opt = tf.sigmoid(logits)\n",
    "        return opt, logits"
   ]
  },
  {
   "cell_type": "code",
   "execution_count": 11,
   "metadata": {
    "collapsed": true
   },
   "outputs": [],
   "source": [
    "'''placeholders for discriminator'''\n",
    "\n",
    "real_image = tf.placeholder(tf.float32,shape=[None,784])\n",
    "z = tf.placeholder(tf.float32, shape=[None, 100])\n",
    "\n",
    "g = generator(z)\n",
    "opt_real, logits_real = discriminator(real_image)\n",
    "\n",
    "opt_fake,logits_fake = discriminator(g,reuse=True)"
   ]
  },
  {
   "cell_type": "code",
   "execution_count": 14,
   "metadata": {
    "collapsed": true
   },
   "outputs": [],
   "source": [
    "# losses\n",
    "\n",
    "def loss_fn(logits_, labels_):\n",
    "    return tf.reduce_mean(tf.nn.sigmoid_cross_entropy_with_logits(logits=logits_, labels=labels_))\n"
   ]
  },
  {
   "cell_type": "code",
   "execution_count": 15,
   "metadata": {
    "collapsed": true
   },
   "outputs": [],
   "source": [
    "'''loss functions for generator and discriminator '''\n",
    "\n",
    "d_real_loss = loss_fn(logits_real,tf.ones_like(logits_real)*0.9)\n",
    "d_fake_loss = loss_fn(logits_fake,tf.zeros_like(logits_real))\n",
    "\n",
    "d_loss = d_real_loss+d_fake_loss\n",
    "g_loss = loss_fn(logits_fake,tf.ones_like(logits_fake))\n",
    "l_r = 0.001"
   ]
  },
  {
   "cell_type": "code",
   "execution_count": 17,
   "metadata": {
    "collapsed": true
   },
   "outputs": [],
   "source": [
    "t_vars = tf.trainable_variables()\n",
    "\n",
    "d_vars=[var for var in t_vars if 'dis' in var.name]\n",
    "g_vars=[var for var in t_vars if 'gen' in var.name]"
   ]
  },
  {
   "cell_type": "code",
   "execution_count": 18,
   "metadata": {
    "collapsed": true
   },
   "outputs": [],
   "source": [
    "'''Optimizers (Adam optimizer)'''\n",
    "\n",
    "d_train = tf.train.AdamOptimizer(learning_rate=l_r).minimize(d_loss,var_list = d_vars)\n",
    "g_train = tf.train.AdamOptimizer(learning_rate=l_r).minimize(g_loss,var_list = g_vars)"
   ]
  },
  {
   "cell_type": "code",
   "execution_count": 22,
   "metadata": {
    "collapsed": true
   },
   "outputs": [],
   "source": [
    "batch_size  = 100\n",
    "epochs = 30\n",
    "samples=[]"
   ]
  },
  {
   "cell_type": "code",
   "execution_count": 1,
   "metadata": {
    "collapsed": true
   },
   "outputs": [],
   "source": [
    "''' Training Session '''\n",
    "\n",
    "with tf.Session() as sess:\n",
    "    sess.run(tf.global_variables_initializer())\n",
    "    for i in range(epochs):\n",
    "        print('epoch number', i)\n",
    "        nb = mnist.train.num_examples//batch_size\n",
    "        for i in range(nb):\n",
    "            batch = mnist.train.next_batch(batch_size)\n",
    "            bi = batch[0].reshape((batch_size,784))\n",
    "            bi = bi*2-1\n",
    "            \n",
    "            bz = np.random.uniform(-1,1,size=(batch_size,100))\n",
    "            \n",
    "            _ =  sess.run(d_train,feed_dict={real_image:bi,z:bz})\n",
    "            _ = sess.run(g_train,feed_dict={z:bz})\n",
    "            \n",
    "        sample_z = np.random.uniform(-1,1,size=(1,100))\n",
    "        gen_sample = sess.run(generator(z,reuse=True), feed_dict={z:sample_z})\n",
    "        \n",
    "        samples.append(gen_sample)"
   ]
  },
  {
   "cell_type": "code",
   "execution_count": 25,
   "metadata": {},
   "outputs": [
    {
     "data": {
      "text/plain": [
       "<matplotlib.image.AxesImage at 0x7fec39512eb8>"
      ]
     },
     "execution_count": 25,
     "metadata": {},
     "output_type": "execute_result"
    },
    {
     "data": {
      "image/png": "[encoded data removed]",
      "text/plain": [
       "<matplotlib.figure.Figure at 0x7fec39569c18>"
      ]
     },
     "metadata": {},
     "output_type": "display_data"
    }
   ],
   "source": [
    "# regenrated image from a random input data\n",
    "\n",
    "plt.imshow(samples[20].reshape(28,28))"
   ]
  },
  {
   "cell_type": "code",
   "execution_count": null,
   "metadata": {
    "collapsed": true
   },
   "outputs": [],
   "source": [
    "new_samples=[]\n",
    "saver = tf.train.Saver()\n",
    "with tf.Session() as sess:\n",
    "    saver.restore(sess,'./models/500_epoch_model.ckpt')\n",
    "    "
   ]
  }
 ],
 "metadata": {
  "kernelspec": {
   "display_name": "Python 3",
   "language": "python",
   "name": "python3"
  },
  "language_info": {
   "codemirror_mode": {
    "name": "ipython",
    "version": 3
   },
   "file_extension": ".py",
   "mimetype": "text/x-python",
   "name": "python",
   "nbconvert_exporter": "python",
   "pygments_lexer": "ipython3",
   "version": "3.5.2"
  }
 },
 "nbformat": 4,
 "nbformat_minor": 2
}
