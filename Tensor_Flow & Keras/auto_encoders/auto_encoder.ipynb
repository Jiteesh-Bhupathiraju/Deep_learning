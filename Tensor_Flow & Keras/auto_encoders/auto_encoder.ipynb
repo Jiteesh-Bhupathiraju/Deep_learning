{
 "cells": [
  {
   "cell_type": "code",
   "execution_count": 2,
   "metadata": {
    "collapsed": true
   },
   "outputs": [],
   "source": [
    "''' science behind the Auto Encoders '''\n",
    "\n",
    "# - While training a deep neural network we try to maintain the same number of output units as of the input i.e. the\n",
    "#   total number of features. However the in-between layers are less numbered. So this potentially looks like as if \n",
    "#   the DNN is trying to encode and decode the data we are feeding in. \n",
    "\n",
    "#   Hence if we have an m input features and n(<m) no of neurons in layer l, it implies that we learned to encode the \n",
    "#   features into n dimensions\n",
    "\n",
    "''' Differentiator '''\n",
    "\n",
    "#   Unlike traditional way of projections we are not completly ignoring the features that have less variance, but trying\n",
    "#   to understand using all the features"
   ]
  },
  {
   "cell_type": "code",
   "execution_count": 3,
   "metadata": {
    "collapsed": true
   },
   "outputs": [],
   "source": [
    "# importing necessary libraries\n",
    "\n",
    "import numpy as np\n",
    "import matplotlib.pyplot as plt\n",
    "%matplotlib inline\n",
    "from sklearn.datasets import make_blobs\n",
    "from sklearn.preprocessing import MinMaxScaler\n",
    "\n",
    "import tensorflow as tf\n",
    "from tensorflow.contrib.layers import fully_connected"
   ]
  },
  {
   "cell_type": "code",
   "execution_count": 4,
   "metadata": {
    "collapsed": true
   },
   "outputs": [],
   "source": [
    "# extracting data from standard sklearn libraries\n",
    "\n",
    "data = make_blobs(n_samples=100, n_features=3,centers=2,random_state=101)"
   ]
  },
  {
   "cell_type": "code",
   "execution_count": 5,
   "metadata": {
    "collapsed": true
   },
   "outputs": [],
   "source": [
    "# defining the MinMax scaler for tranfroming the data, for faster and effecient training\n",
    "\n",
    "scaler = MinMaxScaler()\n",
    "scaled_data = scaler.fit_transform(data[0])"
   ]
  },
  {
   "cell_type": "code",
   "execution_count": 6,
   "metadata": {
    "collapsed": true
   },
   "outputs": [],
   "source": [
    "# defining the parameters of the Deep Neural Network\n",
    "\n",
    "n_input = 3\n",
    "n_hidden = 2\n",
    "n_output = 3\n",
    "learn_rate = 0.01"
   ]
  },
  {
   "cell_type": "code",
   "execution_count": 7,
   "metadata": {
    "collapsed": true
   },
   "outputs": [],
   "source": [
    "# DNN architetcure\n",
    "\n",
    "x = tf.placeholder(tf.float32, shape=[None,n_input])\n",
    "hidden = fully_connected(x,n_hidden,activation_fn=None)\n",
    "output = fully_connected(hidden,n_output,activation_fn=None)"
   ]
  },
  {
   "cell_type": "code",
   "execution_count": 8,
   "metadata": {
    "collapsed": true
   },
   "outputs": [],
   "source": [
    "# Optimization\n",
    "\n",
    "loss = tf.reduce_mean(tf.square(output - x))\n",
    "optimize = tf.train.AdamOptimizer(learn_rate)\n",
    "train  = optimize.minimize(loss)"
   ]
  },
  {
   "cell_type": "code",
   "execution_count": 10,
   "metadata": {
    "collapsed": true
   },
   "outputs": [],
   "source": [
    "# Training\n",
    "\n",
    "with tf.Session() as sess:\n",
    "    sess.run(tf.global_variables_initializer())\n",
    "    \n",
    "    for i in range(2000):\n",
    "        sess.run(train,feed_dict = {x:scaled_data})\n",
    "        \n",
    "    output2d = hidden.eval(feed_dict={x:scaled_data})"
   ]
  },
  {
   "cell_type": "code",
   "execution_count": 11,
   "metadata": {},
   "outputs": [
    {
     "data": {
      "text/plain": [
       "<matplotlib.collections.PathCollection at 0x7f92c845d048>"
      ]
     },
     "execution_count": 11,
     "metadata": {},
     "output_type": "execute_result"
    },
    {
     "data": {
      "image/png": "[encoded data removed]",
      "text/plain": [
       "<matplotlib.figure.Figure at 0x7f92ca531da0>"
      ]
     },
     "metadata": {},
     "output_type": "display_data"
    }
   ],
   "source": [
    "#Results\n",
    "\n",
    "plt.scatter(output2d[:,0], output2d[:,1], c= data[1])"
   ]
  }
 ],
 "metadata": {
  "kernelspec": {
   "display_name": "Python 3",
   "language": "python",
   "name": "python3"
  },
  "language_info": {
   "codemirror_mode": {
    "name": "ipython",
    "version": 3
   },
   "file_extension": ".py",
   "mimetype": "text/x-python",
   "name": "python",
   "nbconvert_exporter": "python",
   "pygments_lexer": "ipython3",
   "version": "3.5.2"
  }
 },
 "nbformat": 4,
 "nbformat_minor": 2
}
