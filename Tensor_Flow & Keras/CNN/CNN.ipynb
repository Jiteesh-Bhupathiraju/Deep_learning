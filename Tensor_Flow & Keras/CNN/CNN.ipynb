{
 "cells": [
  {
   "cell_type": "code",
   "execution_count": 1,
   "metadata": {
    "collapsed": true
   },
   "outputs": [],
   "source": [
    "import tensorflow as tf\n",
    "from tensorflow.examples.tutorials.mnist import input_data"
   ]
  },
  {
   "cell_type": "code",
   "execution_count": 2,
   "metadata": {
    "collapsed": true
   },
   "outputs": [],
   "source": [
    "mnist = input_data.read_data_sets('MNIST_data/', one_hot=True)"
   ]
  },
  {
   "cell_type": "code",
   "execution_count": 3,
   "metadata": {
    "collapsed": true
   },
   "outputs": [],
   "source": [
    "''' initializing weights and bias '''\n",
    "\n",
    "def init_weights(shape):\n",
    "    return tf.Variable(tf.truncated_normal(shape, stddev=0.1))\n",
    "def init_bias(shape):\n",
    "    return tf.Variable(tf.constant(0.1, shape=shape))"
   ]
  },
  {
   "cell_type": "code",
   "execution_count": 4,
   "metadata": {
    "collapsed": true
   },
   "outputs": [],
   "source": [
    "'''defining the convolutional network 2d architecture'''\n",
    "\n",
    "def conv2d(x,W):\n",
    "    # x --> [batch, H, W, channels]\n",
    "    # W --> [filter H, filter W, channels In, channles Out]\n",
    "    return tf.nn.conv2d(x,W,strides=[1,1,1,1], padding='SAME')"
   ]
  },
  {
   "cell_type": "code",
   "execution_count": 5,
   "metadata": {
    "collapsed": true
   },
   "outputs": [],
   "source": [
    "''' Pooling '''\n",
    "\n",
    "def max_pool(x): \n",
    "    # --> ofcourse the same pool as its just an image to be filtered and return\n",
    "    \n",
    "    return tf.nn.max_pool(x,ksize=[1,2,2,1], padding='SAME', strides=[1,2,2,1]) # is where I want to do the pooling\n",
    "    # i.e. with H and W, not on batch and channel "
   ]
  },
  {
   "cell_type": "code",
   "execution_count": 6,
   "metadata": {
    "collapsed": true
   },
   "outputs": [],
   "source": [
    "''' convolutional and deep nn layer helper funcitons '''\n",
    "\n",
    "def convlayer(input_x,shape):\n",
    "    W = init_weights(shape)\n",
    "    b = init_bias([shape[3]])\n",
    "    \n",
    "    return tf.nn.relu(conv2d(input_x,W)+b)\n",
    "\n",
    "def normalayer(input_layer, size):\n",
    "    inp_size = int(input_layer.get_shape()[1])\n",
    "    W = init_weights([inp_size, size])\n",
    "    b = init_bias([size])\n",
    "    \n",
    "    return tf.matmul(input_layer,W)+b\n",
    "\n"
   ]
  },
  {
   "cell_type": "code",
   "execution_count": 7,
   "metadata": {
    "collapsed": true
   },
   "outputs": [],
   "source": [
    "'''place holders'''\n",
    "\n",
    "x = tf.placeholder(tf.float32,shape=[None,784])\n",
    "y_true = tf.placeholder(tf.float32,shape=[None, 10])"
   ]
  },
  {
   "cell_type": "code",
   "execution_count": 8,
   "metadata": {
    "collapsed": true
   },
   "outputs": [],
   "source": [
    "# reshaping the image\n",
    "\n",
    "x_image = tf.reshape(x,[-1,28,28,1])"
   ]
  },
  {
   "cell_type": "markdown",
   "metadata": {},
   "source": [
    "# building layers"
   ]
  },
  {
   "cell_type": "code",
   "execution_count": 9,
   "metadata": {
    "collapsed": true
   },
   "outputs": [],
   "source": [
    "''' CNN architecture '''\n",
    "\n",
    "conv_1 = convlayer(x_image,shape=[5,5,1,32])\n",
    "conv_1_pool = max_pool(conv_1)\n",
    "\n",
    "conv_2 = convlayer(conv_1_pool, shape=[5,5,32,64])\n",
    "conv_2_pool = max_pool(conv_2)\n",
    "\n",
    "conv_2_flat = tf.reshape(conv_2_pool, shape=[-1,7*7*64])\n",
    "full_layer = tf.nn.relu(normalayer(conv_2_flat, 1024))"
   ]
  },
  {
   "cell_type": "code",
   "execution_count": 10,
   "metadata": {
    "collapsed": true
   },
   "outputs": [],
   "source": [
    "''' With dropout '''\n",
    "\n",
    "hold_prob = tf.placeholder(tf.float32)\n",
    "full_drop_out = tf.nn.dropout(full_layer,keep_prob=hold_prob)"
   ]
  },
  {
   "cell_type": "code",
   "execution_count": 11,
   "metadata": {
    "collapsed": true
   },
   "outputs": [],
   "source": [
    "''' predictions '''\n",
    "\n",
    "y_pred = normalayer(full_drop_out,10)"
   ]
  },
  {
   "cell_type": "code",
   "execution_count": 12,
   "metadata": {},
   "outputs": [],
   "source": [
    "# LOSS FUNCTION\n",
    "\n",
    "cross = tf.reduce_mean(tf.nn.softmax_cross_entropy_with_logits(labels=y_true, logits=y_pred))"
   ]
  },
  {
   "cell_type": "code",
   "execution_count": 13,
   "metadata": {
    "collapsed": true
   },
   "outputs": [],
   "source": [
    "output = tf.train.AdamOptimizer(learning_rate=0.001)\n",
    "train = output.minimize(cross)"
   ]
  },
  {
   "cell_type": "code",
   "execution_count": 14,
   "metadata": {
    "collapsed": true
   },
   "outputs": [],
   "source": [
    "''' Training Session '''\n",
    "\n",
    "with tf.Session() as sess:\n",
    "    sess.run(tf.global_variables_initializer())\n",
    "    \n",
    "    for i in range(1000):\n",
    "        bx, by = mnist.train.next_batch(50)\n",
    "        \n",
    "        sess.run(train, feed_dict={x:bx, y_true:by,hold_prob:0.5})\n",
    "        \n",
    "        if i%100==0:\n",
    "            print(\"accuracy \")\n",
    "            matches = tf.equal(tf.argmax(y_pred,1), tf.argmax(y_true,1))\n",
    "            \n",
    "            acc = tf.reduce_mean(tf.cast(matches, tf.float32))\n",
    "            \n",
    "            print(sess.run(acc,feed_dict={x:mnist.test.images,y_true:mnist.test.labels, hold_prob:1.0}))"
   ]
  },
  {
   "cell_type": "code",
   "execution_count": null,
   "metadata": {
    "collapsed": true
   },
   "outputs": [],
   "source": []
  }
 ],
 "metadata": {
  "kernelspec": {
   "display_name": "Python 3",
   "language": "python",
   "name": "python3"
  },
  "language_info": {
   "codemirror_mode": {
    "name": "ipython",
    "version": 3
   },
   "file_extension": ".py",
   "mimetype": "text/x-python",
   "name": "python",
   "nbconvert_exporter": "python",
   "pygments_lexer": "ipython3",
   "version": "3.5.2"
  }
 },
 "nbformat": 4,
 "nbformat_minor": 2
}
