{
 "cells": [
  {
   "cell_type": "code",
   "execution_count": 1,
   "metadata": {},
   "outputs": [],
   "source": [
    "'''importing necessary libraries'''\n",
    "\n",
    "import numpy as np\n",
    "import matplotlib.pyplot as plt\n",
    "import tensorflow as tf\n",
    "%matplotlib inline\n",
    "from tensorflow.examples.tutorials.mnist import input_data"
   ]
  },
  {
   "cell_type": "code",
   "execution_count": 3,
   "metadata": {},
   "outputs": [],
   "source": [
    "'''mnist data set'''\n",
    "\n",
    "mnist = input_data.read_data_sets(\"MNIST_DATA/\", one_hot=True)"
   ]
  },
  {
   "cell_type": "code",
   "execution_count": 4,
   "metadata": {
    "collapsed": true
   },
   "outputs": [],
   "source": [
    "# setting the default graph\n",
    "\n",
    "tf.reset_default_graph()"
   ]
  },
  {
   "cell_type": "code",
   "execution_count": 6,
   "metadata": {},
   "outputs": [],
   "source": [
    "# number of units in each layer\n",
    "\n",
    "n_input = 784\n",
    "n_hidden1 = 392\n",
    "n_hidden2 = 196\n",
    "n_hidden3 = n_hidden1\n",
    "n_output = n_input\n",
    "learn_rate = 0.01"
   ]
  },
  {
   "cell_type": "code",
   "execution_count": 7,
   "metadata": {
    "collapsed": true
   },
   "outputs": [],
   "source": [
    "# activation function\n",
    "\n",
    "actiavtion_function = tf.nn.relu"
   ]
  },
  {
   "cell_type": "code",
   "execution_count": 9,
   "metadata": {},
   "outputs": [],
   "source": [
    "''' Stacked Auto Encoder Architecture '''\n",
    "\n",
    "x =tf.placeholder(tf.float32,shape=[None,n_input])\n",
    "init = tf.variance_scaling_initializer() #can addapt ist scale to the shape of tenors\n",
    "\n",
    "w1 = tf.Variable(init([n_input,n_hidden1]), dtype=tf.float32)\n",
    "w2 = tf.Variable(init([n_hidden1,n_hidden2]), dtype=tf.float32)\n",
    "w3 = tf.Variable(init([n_hidden2,n_hidden3]), dtype=tf.float32)\n",
    "w4 = tf.Variable(init([n_hidden3,n_output]), dtype=tf.float32)\n",
    "\n",
    "\n",
    "b1 = tf.Variable(tf.zeros(n_hidden1))\n",
    "b2 = tf.Variable(tf.zeros(n_hidden2))\n",
    "b3 = tf.Variable(tf.zeros(n_hidden3))\n",
    "b4 = tf.Variable(tf.zeros(n_output))\n",
    "\n",
    "\n",
    "h1 = actiavtion_function(tf.matmul(x,w1)+b1)\n",
    "h2 = actiavtion_function(tf.matmul(h1,w2)+b2)\n",
    "h3 = actiavtion_function(tf.matmul(h2,w3)+b3)\n",
    "output = actiavtion_function(tf.matmul(h3,w4)+b4)"
   ]
  },
  {
   "cell_type": "code",
   "execution_count": 10,
   "metadata": {
    "collapsed": true
   },
   "outputs": [],
   "source": [
    "'''optimization'''\n",
    "\n",
    "loss = tf.reduce_mean(tf.square(output-x))\n",
    "optimize = tf.train.AdamOptimizer(learning_rate=learn_rate)\n",
    "train = optimize.minimize(loss)"
   ]
  },
  {
   "cell_type": "code",
   "execution_count": 11,
   "metadata": {},
   "outputs": [],
   "source": [
    "saver = tf.train.Saver()"
   ]
  },
  {
   "cell_type": "code",
   "execution_count": 12,
   "metadata": {},
   "outputs": [
    {
     "name": "stdout",
     "output_type": "stream",
     "text": [
      "epoch 0 loss 0.042887069284915924\n",
      "epoch 1 loss 0.03521721810102463\n",
      "epoch 2 loss 0.033063389360904694\n",
      "epoch 3 loss 0.03149286285042763\n",
      "epoch 4 loss 0.03212369233369827\n"
     ]
    }
   ],
   "source": [
    "'''encoding and decoding session'''\n",
    "\n",
    "n_epoch = 5\n",
    "batch_size=150\n",
    "\n",
    "\n",
    "with tf.Session() as sess:\n",
    "    sess.run(tf.global_variables_initializer())\n",
    "    \n",
    "    for epoch in range(n_epoch):\n",
    "        n_batch = mnist.train.num_examples//batch_size\n",
    "        for i in range(100):\n",
    "            xb,yb= mnist.train.next_batch(batch_size)\n",
    "            sess.run(train, feed_dict={x:xb})\n",
    "        train_loss = loss.eval(feed_dict={x:xb})\n",
    "        print('epoch {0} loss {1}'.format(epoch, train_loss))\n",
    "        \n",
    "    saver.save(sess,\"./check_point/stacked_auto_encoder.ckpt\")"
   ]
  },
  {
   "cell_type": "code",
   "execution_count": 15,
   "metadata": {},
   "outputs": [
    {
     "name": "stdout",
     "output_type": "stream",
     "text": [
      "INFO:tensorflow:Restoring parameters from ./check_point/stacked_auto_encoder.ckpt\n"
     ]
    }
   ],
   "source": [
    "'''retreiving the saved model'''\n",
    "\n",
    "n_test_images=10\n",
    "with tf.Session() as sess:\n",
    "    saver.restore(sess,\"./check_point/stacked_auto_encoder.ckpt\")\n",
    "    res = output.eval(feed_dict={x:mnist.test.images[:n_test_images]}) # can also evaluate the midden layers"
   ]
  },
  {
   "cell_type": "code",
   "execution_count": 16,
   "metadata": {},
   "outputs": [
    {
     "data": {
      "image/png": "[encoded data removed]",
      "text/plain": [
       "<matplotlib.figure.Figure at 0x7f58d1c6cc88>"
      ]
     },
     "metadata": {},
     "output_type": "display_data"
    }
   ],
   "source": [
    "'''regenerated images'''\n",
    "\n",
    "f,a = plt.subplots(2,10, figsize=(20,4))\n",
    "for i in range(n_test_images):\n",
    "    a[0][i].imshow(np.reshape(mnist.test.images[i],(28,28)))\n",
    "    a[1][i].imshow(np.reshape(res[i],(28,28)))"
   ]
  },
  {
   "cell_type": "code",
   "execution_count": null,
   "metadata": {
    "collapsed": true
   },
   "outputs": [],
   "source": []
  }
 ],
 "metadata": {
  "kernelspec": {
   "display_name": "Python 3",
   "language": "python",
   "name": "python3"
  },
  "language_info": {
   "codemirror_mode": {
    "name": "ipython",
    "version": 3
   },
   "file_extension": ".py",
   "mimetype": "text/x-python",
   "name": "python",
   "nbconvert_exporter": "python",
   "pygments_lexer": "ipython3",
   "version": "3.5.2"
  }
 },
 "nbformat": 4,
 "nbformat_minor": 2
}
