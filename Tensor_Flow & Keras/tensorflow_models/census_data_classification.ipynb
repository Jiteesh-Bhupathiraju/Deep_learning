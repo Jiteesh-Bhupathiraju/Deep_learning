{
 "cells": [
  {
   "cell_type": "code",
   "execution_count": 1,
   "metadata": {},
   "outputs": [
    {
     "name": "stderr",
     "output_type": "stream",
     "text": [
      "/usr/local/lib/python3.5/dist-packages/requests/__init__.py:80: RequestsDependencyWarning: urllib3 (1.23) or chardet (3.0.4) doesn't match a supported version!\n",
      "  RequestsDependencyWarning)\n"
     ]
    }
   ],
   "source": [
    "'''libraries'''\n",
    "\n",
    "import pandas as pd\n",
    "import tensorflow as tf\n",
    "import matplotlib.pyplot as plt\n",
    "%matplotlib inline\n",
    "from sklearn.model_selection import train_test_split\n",
    "from sklearn.metrics import classification_report"
   ]
  },
  {
   "cell_type": "code",
   "execution_count": 21,
   "metadata": {
    "collapsed": true
   },
   "outputs": [],
   "source": [
    "# data set\n",
    "\n",
    "census = pd.read_csv('data/census_data.csv').drop(['race', 'education_num'], axis=1)\n",
    "census['income_bracket'] = census['income_bracket'].apply(lambda x: 1 if x == ' <=50K' else 0)"
   ]
  },
  {
   "cell_type": "code",
   "execution_count": 23,
   "metadata": {},
   "outputs": [
    {
     "data": {
      "text/html": [
       "<div>\n",
       "<style scoped>\n",
       "    .dataframe tbody tr th:only-of-type {\n",
       "        vertical-align: middle;\n",
       "    }\n",
       "\n",
       "    .dataframe tbody tr th {\n",
       "        vertical-align: top;\n",
       "    }\n",
       "\n",
       "    .dataframe thead th {\n",
       "        text-align: right;\n",
       "    }\n",
       "</style>\n",
       "<table border=\"1\" class=\"dataframe\">\n",
       "  <thead>\n",
       "    <tr style=\"text-align: right;\">\n",
       "      <th></th>\n",
       "      <th>age</th>\n",
       "      <th>workclass</th>\n",
       "      <th>education</th>\n",
       "      <th>marital_status</th>\n",
       "      <th>occupation</th>\n",
       "      <th>relationship</th>\n",
       "      <th>gender</th>\n",
       "      <th>capital_gain</th>\n",
       "      <th>capital_loss</th>\n",
       "      <th>hours_per_week</th>\n",
       "      <th>native_country</th>\n",
       "      <th>income_bracket</th>\n",
       "    </tr>\n",
       "  </thead>\n",
       "  <tbody>\n",
       "    <tr>\n",
       "      <th>0</th>\n",
       "      <td>39</td>\n",
       "      <td>State-gov</td>\n",
       "      <td>Bachelors</td>\n",
       "      <td>Never-married</td>\n",
       "      <td>Adm-clerical</td>\n",
       "      <td>Not-in-family</td>\n",
       "      <td>Male</td>\n",
       "      <td>2174</td>\n",
       "      <td>0</td>\n",
       "      <td>40</td>\n",
       "      <td>United-States</td>\n",
       "      <td>1</td>\n",
       "    </tr>\n",
       "    <tr>\n",
       "      <th>1</th>\n",
       "      <td>50</td>\n",
       "      <td>Self-emp-not-inc</td>\n",
       "      <td>Bachelors</td>\n",
       "      <td>Married-civ-spouse</td>\n",
       "      <td>Exec-managerial</td>\n",
       "      <td>Husband</td>\n",
       "      <td>Male</td>\n",
       "      <td>0</td>\n",
       "      <td>0</td>\n",
       "      <td>13</td>\n",
       "      <td>United-States</td>\n",
       "      <td>1</td>\n",
       "    </tr>\n",
       "    <tr>\n",
       "      <th>2</th>\n",
       "      <td>38</td>\n",
       "      <td>Private</td>\n",
       "      <td>HS-grad</td>\n",
       "      <td>Divorced</td>\n",
       "      <td>Handlers-cleaners</td>\n",
       "      <td>Not-in-family</td>\n",
       "      <td>Male</td>\n",
       "      <td>0</td>\n",
       "      <td>0</td>\n",
       "      <td>40</td>\n",
       "      <td>United-States</td>\n",
       "      <td>1</td>\n",
       "    </tr>\n",
       "    <tr>\n",
       "      <th>3</th>\n",
       "      <td>53</td>\n",
       "      <td>Private</td>\n",
       "      <td>11th</td>\n",
       "      <td>Married-civ-spouse</td>\n",
       "      <td>Handlers-cleaners</td>\n",
       "      <td>Husband</td>\n",
       "      <td>Male</td>\n",
       "      <td>0</td>\n",
       "      <td>0</td>\n",
       "      <td>40</td>\n",
       "      <td>United-States</td>\n",
       "      <td>1</td>\n",
       "    </tr>\n",
       "    <tr>\n",
       "      <th>4</th>\n",
       "      <td>28</td>\n",
       "      <td>Private</td>\n",
       "      <td>Bachelors</td>\n",
       "      <td>Married-civ-spouse</td>\n",
       "      <td>Prof-specialty</td>\n",
       "      <td>Wife</td>\n",
       "      <td>Female</td>\n",
       "      <td>0</td>\n",
       "      <td>0</td>\n",
       "      <td>40</td>\n",
       "      <td>Cuba</td>\n",
       "      <td>1</td>\n",
       "    </tr>\n",
       "  </tbody>\n",
       "</table>\n",
       "</div>"
      ],
      "text/plain": [
       "   age          workclass   education       marital_status  \\\n",
       "0   39          State-gov   Bachelors        Never-married   \n",
       "1   50   Self-emp-not-inc   Bachelors   Married-civ-spouse   \n",
       "2   38            Private     HS-grad             Divorced   \n",
       "3   53            Private        11th   Married-civ-spouse   \n",
       "4   28            Private   Bachelors   Married-civ-spouse   \n",
       "\n",
       "           occupation    relationship   gender  capital_gain  capital_loss  \\\n",
       "0        Adm-clerical   Not-in-family     Male          2174             0   \n",
       "1     Exec-managerial         Husband     Male             0             0   \n",
       "2   Handlers-cleaners   Not-in-family     Male             0             0   \n",
       "3   Handlers-cleaners         Husband     Male             0             0   \n",
       "4      Prof-specialty            Wife   Female             0             0   \n",
       "\n",
       "   hours_per_week  native_country  income_bracket  \n",
       "0              40   United-States               1  \n",
       "1              13   United-States               1  \n",
       "2              40   United-States               1  \n",
       "3              40   United-States               1  \n",
       "4              40            Cuba               1  "
      ]
     },
     "execution_count": 23,
     "metadata": {},
     "output_type": "execute_result"
    }
   ],
   "source": [
    "X_train, X_test, y_train, y_test = train_test_split(census.iloc[:,:-1],census.iloc[:,-1] , test_size=0.3, random_state = 101)\n",
    "\n",
    "census.head()"
   ]
  },
  {
   "cell_type": "code",
   "execution_count": 24,
   "metadata": {},
   "outputs": [
    {
     "data": {
      "text/plain": [
       "Index(['age', 'workclass', 'education', 'marital_status', 'occupation',\n",
       "       'relationship', 'gender', 'capital_gain', 'capital_loss',\n",
       "       'hours_per_week', 'native_country', 'income_bracket'],\n",
       "      dtype='object')"
      ]
     },
     "execution_count": 24,
     "metadata": {},
     "output_type": "execute_result"
    }
   ],
   "source": [
    "census.columns"
   ]
  },
  {
   "cell_type": "code",
   "execution_count": 27,
   "metadata": {
    "collapsed": true
   },
   "outputs": [],
   "source": [
    "'''column specification for the NN model\n",
    "   all categorical data columns'''\n",
    "\n",
    "gndr = tf.feature_column.categorical_column_with_vocabulary_list(\"gender\", ['Female', 'Male'])\n",
    "occu = tf.feature_column.categorical_column_with_hash_bucket(\"occupation\", hash_bucket_size=1000)\n",
    "rltn = tf.feature_column.categorical_column_with_hash_bucket(\"relationship\", hash_bucket_size=1000)\n",
    "edu = tf.feature_column.categorical_column_with_hash_bucket(\"education\", hash_bucket_size=1000)\n",
    "wc = tf.feature_column.categorical_column_with_hash_bucket(\"workclass\", hash_bucket_size=1000)\n",
    "country = tf.feature_column.categorical_column_with_hash_bucket(\"native_country\", hash_bucket_size=1000)\n",
    "ms = tf.feature_column.categorical_column_with_hash_bucket(\"marital_status\",hash_bucket_size=10)"
   ]
  },
  {
   "cell_type": "code",
   "execution_count": 28,
   "metadata": {
    "collapsed": true
   },
   "outputs": [],
   "source": [
    "'''all the numeric columns'''\n",
    "\n",
    "age = tf.feature_column.numeric_column(\"age\")\n",
    "cg = tf.feature_column.numeric_column(\"capital_gain\")\n",
    "cl = tf.feature_column.numeric_column(\"capital_loss\")\n",
    "hpw = tf.feature_column.numeric_column(\"hours_per_week\")"
   ]
  },
  {
   "cell_type": "code",
   "execution_count": 29,
   "metadata": {
    "collapsed": true
   },
   "outputs": [],
   "source": [
    "feat_cols = [gndr,occu,rltn,edu,wc,country,ms,age,cg,cl,hpw]"
   ]
  },
  {
   "cell_type": "code",
   "execution_count": 30,
   "metadata": {
    "collapsed": true
   },
   "outputs": [],
   "source": [
    "# input function for the DNN\n",
    "\n",
    "inp_fn = tf.estimator.inputs.pandas_input_fn(x=X_train,y=y_train, shuffle=True,batch_size=10,num_epochs=1000)"
   ]
  },
  {
   "cell_type": "code",
   "execution_count": 31,
   "metadata": {},
   "outputs": [
    {
     "name": "stdout",
     "output_type": "stream",
     "text": [
      "INFO:tensorflow:Using default config.\n",
      "WARNING:tensorflow:Using temporary folder as model directory: /tmp/tmp_uly4q10\n",
      "INFO:tensorflow:Using config: {'_master': '', '_save_checkpoints_secs': 600, '_model_dir': '/tmp/tmp_uly4q10', '_service': None, '_task_type': 'worker', '_task_id': 0, '_num_worker_replicas': 1, '_session_config': allow_soft_placement: true\n",
      "graph_options {\n",
      "  rewrite_options {\n",
      "    meta_optimizer_iterations: ONE\n",
      "  }\n",
      "}\n",
      ", '_keep_checkpoint_every_n_hours': 10000, '_save_checkpoints_steps': None, '_log_step_count_steps': 100, '_eval_distribute': None, '_device_fn': None, '_tf_random_seed': None, '_evaluation_master': '', '_keep_checkpoint_max': 5, '_num_ps_replicas': 0, '_global_id_in_cluster': 0, '_train_distribute': None, '_protocol': None, '_is_chief': True, '_save_summary_steps': 100, '_experimental_distribute': None, '_cluster_spec': <tensorflow.python.training.server_lib.ClusterSpec object at 0x7f54201dd668>}\n"
     ]
    }
   ],
   "source": [
    "dnnc = tf.estimator.LinearClassifier(feature_columns=feat_cols)"
   ]
  },
  {
   "cell_type": "code",
   "execution_count": 32,
   "metadata": {},
   "outputs": [
    {
     "name": "stdout",
     "output_type": "stream",
     "text": [
      "WARNING:tensorflow:From /usr/local/lib/python3.5/dist-packages/tensorflow/python/estimator/inputs/queues/feeding_queue_runner.py:62: QueueRunner.__init__ (from tensorflow.python.training.queue_runner_impl) is deprecated and will be removed in a future version.\n",
      "Instructions for updating:\n",
      "To construct input pipelines, use the `tf.data` module.\n",
      "WARNING:tensorflow:From /usr/local/lib/python3.5/dist-packages/tensorflow/python/estimator/inputs/queues/feeding_functions.py:500: add_queue_runner (from tensorflow.python.training.queue_runner_impl) is deprecated and will be removed in a future version.\n",
      "Instructions for updating:\n",
      "To construct input pipelines, use the `tf.data` module.\n",
      "INFO:tensorflow:Calling model_fn.\n",
      "INFO:tensorflow:Done calling model_fn.\n",
      "INFO:tensorflow:Create CheckpointSaverHook.\n",
      "INFO:tensorflow:Graph was finalized.\n",
      "INFO:tensorflow:Running local_init_op.\n",
      "INFO:tensorflow:Done running local_init_op.\n",
      "WARNING:tensorflow:From /usr/local/lib/python3.5/dist-packages/tensorflow/python/training/monitored_session.py:804: start_queue_runners (from tensorflow.python.training.queue_runner_impl) is deprecated and will be removed in a future version.\n",
      "Instructions for updating:\n",
      "To construct input pipelines, use the `tf.data` module.\n",
      "INFO:tensorflow:Saving checkpoints for 0 into /tmp/tmp_uly4q10/model.ckpt.\n",
      "INFO:tensorflow:loss = 6.931472, step = 1\n",
      "INFO:tensorflow:global_step/sec: 106.85\n",
      "INFO:tensorflow:loss = 4.7791295, step = 101 (0.943 sec)\n",
      "INFO:tensorflow:global_step/sec: 185.129\n",
      "INFO:tensorflow:loss = 23.272596, step = 201 (0.535 sec)\n",
      "INFO:tensorflow:global_step/sec: 201.189\n",
      "INFO:tensorflow:loss = 214.61002, step = 301 (0.497 sec)\n",
      "INFO:tensorflow:global_step/sec: 203.714\n",
      "INFO:tensorflow:loss = 3.675672, step = 401 (0.492 sec)\n",
      "INFO:tensorflow:global_step/sec: 196.771\n",
      "INFO:tensorflow:loss = 0.67341846, step = 501 (0.510 sec)\n",
      "INFO:tensorflow:global_step/sec: 242.95\n",
      "INFO:tensorflow:loss = 8.347959, step = 601 (0.409 sec)\n",
      "INFO:tensorflow:global_step/sec: 237.171\n",
      "INFO:tensorflow:loss = 52.85318, step = 701 (0.424 sec)\n",
      "INFO:tensorflow:global_step/sec: 242.405\n",
      "INFO:tensorflow:loss = 1.4811679, step = 801 (0.412 sec)\n",
      "INFO:tensorflow:global_step/sec: 247.83\n",
      "INFO:tensorflow:loss = 3.6955454, step = 901 (0.402 sec)\n",
      "INFO:tensorflow:global_step/sec: 242.105\n",
      "INFO:tensorflow:loss = 2.3244805, step = 1001 (0.415 sec)\n",
      "INFO:tensorflow:global_step/sec: 249.351\n",
      "INFO:tensorflow:loss = 16.7391, step = 1101 (0.399 sec)\n",
      "INFO:tensorflow:global_step/sec: 212.344\n",
      "INFO:tensorflow:loss = 1.2683314, step = 1201 (0.470 sec)\n",
      "INFO:tensorflow:global_step/sec: 246.076\n",
      "INFO:tensorflow:loss = 45.916664, step = 1301 (0.409 sec)\n",
      "INFO:tensorflow:global_step/sec: 243.122\n",
      "INFO:tensorflow:loss = 8.25467, step = 1401 (0.413 sec)\n",
      "INFO:tensorflow:global_step/sec: 213.246\n",
      "INFO:tensorflow:loss = 5.090519, step = 1501 (0.468 sec)\n",
      "INFO:tensorflow:global_step/sec: 227.841\n",
      "INFO:tensorflow:loss = 20.65477, step = 1601 (0.439 sec)\n",
      "INFO:tensorflow:global_step/sec: 256.165\n",
      "INFO:tensorflow:loss = 11.783684, step = 1701 (0.388 sec)\n",
      "INFO:tensorflow:global_step/sec: 238.296\n",
      "INFO:tensorflow:loss = 5.7513185, step = 1801 (0.419 sec)\n",
      "INFO:tensorflow:global_step/sec: 220.451\n",
      "INFO:tensorflow:loss = 2.4559538, step = 1901 (0.457 sec)\n",
      "INFO:tensorflow:global_step/sec: 220.588\n",
      "INFO:tensorflow:loss = 1.2960196, step = 2001 (0.451 sec)\n",
      "INFO:tensorflow:global_step/sec: 221.379\n",
      "INFO:tensorflow:loss = 7.1345453, step = 2101 (0.451 sec)\n",
      "INFO:tensorflow:global_step/sec: 230.26\n",
      "INFO:tensorflow:loss = 0.68455607, step = 2201 (0.434 sec)\n",
      "INFO:tensorflow:global_step/sec: 238.559\n",
      "INFO:tensorflow:loss = 0.70056444, step = 2301 (0.418 sec)\n",
      "INFO:tensorflow:global_step/sec: 216.73\n",
      "INFO:tensorflow:loss = 51.541634, step = 2401 (0.462 sec)\n",
      "INFO:tensorflow:global_step/sec: 221.489\n",
      "INFO:tensorflow:loss = 4.8186903, step = 2501 (0.455 sec)\n",
      "INFO:tensorflow:global_step/sec: 229.611\n",
      "INFO:tensorflow:loss = 1.5306299, step = 2601 (0.439 sec)\n",
      "INFO:tensorflow:global_step/sec: 231.557\n",
      "INFO:tensorflow:loss = 3.110761, step = 2701 (0.426 sec)\n",
      "INFO:tensorflow:global_step/sec: 237.03\n",
      "INFO:tensorflow:loss = 7.810505, step = 2801 (0.423 sec)\n",
      "INFO:tensorflow:global_step/sec: 204.979\n",
      "INFO:tensorflow:loss = 3.9506512, step = 2901 (0.483 sec)\n",
      "INFO:tensorflow:global_step/sec: 228.906\n",
      "INFO:tensorflow:loss = 4.9582663, step = 3001 (0.443 sec)\n",
      "INFO:tensorflow:global_step/sec: 218.938\n",
      "INFO:tensorflow:loss = 3.6123774, step = 3101 (0.453 sec)\n",
      "INFO:tensorflow:global_step/sec: 210.525\n",
      "INFO:tensorflow:loss = 4.6863194, step = 3201 (0.474 sec)\n",
      "INFO:tensorflow:global_step/sec: 202.255\n",
      "INFO:tensorflow:loss = 0.7503733, step = 3301 (0.499 sec)\n",
      "INFO:tensorflow:global_step/sec: 216.967\n",
      "INFO:tensorflow:loss = 7.747896, step = 3401 (0.466 sec)\n",
      "INFO:tensorflow:global_step/sec: 212.928\n",
      "INFO:tensorflow:loss = 1.7626349, step = 3501 (0.461 sec)\n",
      "INFO:tensorflow:global_step/sec: 230.77\n",
      "INFO:tensorflow:loss = 9.740087, step = 3601 (0.435 sec)\n",
      "INFO:tensorflow:global_step/sec: 224.164\n",
      "INFO:tensorflow:loss = 3.490392, step = 3701 (0.443 sec)\n",
      "INFO:tensorflow:global_step/sec: 223.01\n",
      "INFO:tensorflow:loss = 1.0780411, step = 3801 (0.448 sec)\n",
      "INFO:tensorflow:global_step/sec: 220.343\n",
      "INFO:tensorflow:loss = 5.568054, step = 3901 (0.452 sec)\n",
      "INFO:tensorflow:global_step/sec: 232.798\n",
      "INFO:tensorflow:loss = 2.2273457, step = 4001 (0.433 sec)\n",
      "INFO:tensorflow:global_step/sec: 223.207\n",
      "INFO:tensorflow:loss = 5.009721, step = 4101 (0.447 sec)\n",
      "INFO:tensorflow:global_step/sec: 228.866\n",
      "INFO:tensorflow:loss = 1.1931597, step = 4201 (0.437 sec)\n",
      "INFO:tensorflow:global_step/sec: 217.505\n",
      "INFO:tensorflow:loss = 2.764944, step = 4301 (0.462 sec)\n",
      "INFO:tensorflow:global_step/sec: 221.809\n",
      "INFO:tensorflow:loss = 1.6763666, step = 4401 (0.454 sec)\n",
      "INFO:tensorflow:global_step/sec: 227.456\n",
      "INFO:tensorflow:loss = 4.226751, step = 4501 (0.434 sec)\n",
      "INFO:tensorflow:global_step/sec: 228.544\n",
      "INFO:tensorflow:loss = 4.5556717, step = 4601 (0.441 sec)\n",
      "INFO:tensorflow:global_step/sec: 234.288\n",
      "INFO:tensorflow:loss = 1.6806748, step = 4701 (0.423 sec)\n",
      "INFO:tensorflow:global_step/sec: 228.917\n",
      "INFO:tensorflow:loss = 25.18186, step = 4801 (0.435 sec)\n",
      "INFO:tensorflow:global_step/sec: 228.504\n",
      "INFO:tensorflow:loss = 0.41512936, step = 4901 (0.439 sec)\n",
      "INFO:tensorflow:global_step/sec: 197.23\n",
      "INFO:tensorflow:loss = 0.9697213, step = 5001 (0.507 sec)\n",
      "INFO:tensorflow:global_step/sec: 237.655\n",
      "INFO:tensorflow:loss = 57.803505, step = 5101 (0.424 sec)\n",
      "INFO:tensorflow:global_step/sec: 238.566\n",
      "INFO:tensorflow:loss = 2.97996, step = 5201 (0.416 sec)\n",
      "INFO:tensorflow:global_step/sec: 236.617\n",
      "INFO:tensorflow:loss = 1.818944, step = 5301 (0.425 sec)\n",
      "INFO:tensorflow:global_step/sec: 229.083\n",
      "INFO:tensorflow:loss = 1.0764463, step = 5401 (0.432 sec)\n",
      "INFO:tensorflow:global_step/sec: 227.996\n",
      "INFO:tensorflow:loss = 2.96458, step = 5501 (0.438 sec)\n",
      "INFO:tensorflow:global_step/sec: 230.139\n",
      "INFO:tensorflow:loss = 2.3294015, step = 5601 (0.438 sec)\n",
      "INFO:tensorflow:global_step/sec: 196.647\n",
      "INFO:tensorflow:loss = 2.5960734, step = 5701 (0.505 sec)\n",
      "INFO:tensorflow:global_step/sec: 227.522\n",
      "INFO:tensorflow:loss = 9.211187, step = 5801 (0.441 sec)\n",
      "INFO:tensorflow:global_step/sec: 228.393\n",
      "INFO:tensorflow:loss = 0.40983638, step = 5901 (0.440 sec)\n",
      "INFO:tensorflow:global_step/sec: 228.149\n",
      "INFO:tensorflow:loss = 22.098217, step = 6001 (0.434 sec)\n",
      "INFO:tensorflow:global_step/sec: 219.725\n",
      "INFO:tensorflow:loss = 5.1344633, step = 6101 (0.462 sec)\n",
      "INFO:tensorflow:global_step/sec: 231.005\n",
      "INFO:tensorflow:loss = 29.177267, step = 6201 (0.431 sec)\n",
      "INFO:tensorflow:global_step/sec: 213.142\n",
      "INFO:tensorflow:loss = 2.1321394, step = 6301 (0.471 sec)\n",
      "INFO:tensorflow:global_step/sec: 223.413\n",
      "INFO:tensorflow:loss = 3.638038, step = 6401 (0.447 sec)\n",
      "INFO:tensorflow:global_step/sec: 217.286\n",
      "INFO:tensorflow:loss = 7.1674776, step = 6501 (0.456 sec)\n",
      "INFO:tensorflow:global_step/sec: 226.864\n",
      "INFO:tensorflow:loss = 106.95663, step = 6601 (0.442 sec)\n",
      "INFO:tensorflow:global_step/sec: 215.099\n",
      "INFO:tensorflow:loss = 12.345878, step = 6701 (0.467 sec)\n",
      "INFO:tensorflow:global_step/sec: 223.979\n",
      "INFO:tensorflow:loss = 0.668039, step = 6801 (0.443 sec)\n",
      "INFO:tensorflow:global_step/sec: 225.537\n",
      "INFO:tensorflow:loss = 8.196594, step = 6901 (0.441 sec)\n",
      "INFO:tensorflow:global_step/sec: 229.3\n",
      "INFO:tensorflow:loss = 3.5046287, step = 7001 (0.440 sec)\n"
     ]
    },
    {
     "name": "stdout",
     "output_type": "stream",
     "text": [
      "INFO:tensorflow:global_step/sec: 227.765\n",
      "INFO:tensorflow:loss = 0.40610307, step = 7101 (0.443 sec)\n",
      "INFO:tensorflow:global_step/sec: 235.155\n",
      "INFO:tensorflow:loss = 1.002752, step = 7201 (0.421 sec)\n",
      "INFO:tensorflow:global_step/sec: 237.445\n",
      "INFO:tensorflow:loss = 7.424312, step = 7301 (0.424 sec)\n",
      "INFO:tensorflow:global_step/sec: 228.29\n",
      "INFO:tensorflow:loss = 5.270619, step = 7401 (0.437 sec)\n",
      "INFO:tensorflow:global_step/sec: 239.715\n",
      "INFO:tensorflow:loss = 6.379411, step = 7501 (0.416 sec)\n",
      "INFO:tensorflow:global_step/sec: 205.242\n",
      "INFO:tensorflow:loss = 4.1139903, step = 7601 (0.488 sec)\n",
      "INFO:tensorflow:global_step/sec: 235.602\n",
      "INFO:tensorflow:loss = 10.016871, step = 7701 (0.426 sec)\n",
      "INFO:tensorflow:global_step/sec: 191.39\n",
      "INFO:tensorflow:loss = 5.5208607, step = 7801 (0.522 sec)\n",
      "INFO:tensorflow:global_step/sec: 225.123\n",
      "INFO:tensorflow:loss = 1.0701758, step = 7901 (0.444 sec)\n",
      "INFO:tensorflow:global_step/sec: 228.128\n",
      "INFO:tensorflow:loss = 3.0809178, step = 8001 (0.437 sec)\n",
      "INFO:tensorflow:global_step/sec: 235.094\n",
      "INFO:tensorflow:loss = 1.0554078, step = 8101 (0.423 sec)\n",
      "INFO:tensorflow:global_step/sec: 231.032\n",
      "INFO:tensorflow:loss = 4.3319283, step = 8201 (0.435 sec)\n",
      "INFO:tensorflow:global_step/sec: 232.549\n",
      "INFO:tensorflow:loss = 2.700685, step = 8301 (0.430 sec)\n",
      "INFO:tensorflow:global_step/sec: 238.739\n",
      "INFO:tensorflow:loss = 3.2195954, step = 8401 (0.416 sec)\n",
      "INFO:tensorflow:global_step/sec: 207.522\n",
      "INFO:tensorflow:loss = 9.186366, step = 8501 (0.483 sec)\n",
      "INFO:tensorflow:global_step/sec: 239.014\n",
      "INFO:tensorflow:loss = 1.446956, step = 8601 (0.419 sec)\n",
      "INFO:tensorflow:global_step/sec: 203.977\n",
      "INFO:tensorflow:loss = 13.39372, step = 8701 (0.492 sec)\n",
      "INFO:tensorflow:global_step/sec: 229.555\n",
      "INFO:tensorflow:loss = 8.443885, step = 8801 (0.436 sec)\n",
      "INFO:tensorflow:global_step/sec: 235.074\n",
      "INFO:tensorflow:loss = 2.4092898, step = 8901 (0.426 sec)\n",
      "INFO:tensorflow:global_step/sec: 229.888\n",
      "INFO:tensorflow:loss = 1.545277, step = 9001 (0.436 sec)\n",
      "INFO:tensorflow:global_step/sec: 232.868\n",
      "INFO:tensorflow:loss = 1.414299, step = 9101 (0.428 sec)\n",
      "INFO:tensorflow:global_step/sec: 207.183\n",
      "INFO:tensorflow:loss = 6.769588, step = 9201 (0.483 sec)\n",
      "INFO:tensorflow:global_step/sec: 232.308\n",
      "INFO:tensorflow:loss = 4.844504, step = 9301 (0.432 sec)\n",
      "INFO:tensorflow:global_step/sec: 195.314\n",
      "INFO:tensorflow:loss = 3.9773154, step = 9401 (0.507 sec)\n",
      "INFO:tensorflow:global_step/sec: 222.873\n",
      "INFO:tensorflow:loss = 23.813454, step = 9501 (0.449 sec)\n",
      "INFO:tensorflow:global_step/sec: 226.37\n",
      "INFO:tensorflow:loss = 2.8823056, step = 9601 (0.442 sec)\n",
      "INFO:tensorflow:global_step/sec: 233.201\n",
      "INFO:tensorflow:loss = 5.3528857, step = 9701 (0.431 sec)\n",
      "INFO:tensorflow:global_step/sec: 225.434\n",
      "INFO:tensorflow:loss = 3.7364562, step = 9801 (0.441 sec)\n",
      "INFO:tensorflow:global_step/sec: 227.482\n",
      "INFO:tensorflow:loss = 4.109501, step = 9901 (0.440 sec)\n",
      "INFO:tensorflow:Saving checkpoints for 10000 into /tmp/tmp_uly4q10/model.ckpt.\n",
      "INFO:tensorflow:Loss for final step: 1.1868643.\n"
     ]
    },
    {
     "data": {
      "text/plain": [
       "<tensorflow.python.estimator.canned.linear.LinearClassifier at 0x7f54201dc438>"
      ]
     },
     "execution_count": 32,
     "metadata": {},
     "output_type": "execute_result"
    }
   ],
   "source": [
    "# training\n",
    "\n",
    "dnnc.train(input_fn=inp_fn, steps=10000)"
   ]
  },
  {
   "cell_type": "code",
   "execution_count": 39,
   "metadata": {
    "collapsed": true
   },
   "outputs": [],
   "source": [
    "eval_fn = tf.estimator.inputs.pandas_input_fn(x=X_test,y=y_test, shuffle=False,batch_size=len(X_test))"
   ]
  },
  {
   "cell_type": "code",
   "execution_count": 40,
   "metadata": {},
   "outputs": [
    {
     "name": "stdout",
     "output_type": "stream",
     "text": [
      "INFO:tensorflow:Calling model_fn.\n",
      "WARNING:tensorflow:Trapezoidal rule is known to produce incorrect PR-AUCs; please switch to \"careful_interpolation\" instead.\n",
      "WARNING:tensorflow:Trapezoidal rule is known to produce incorrect PR-AUCs; please switch to \"careful_interpolation\" instead.\n",
      "INFO:tensorflow:Done calling model_fn.\n",
      "INFO:tensorflow:Starting evaluation at 2019-01-30-04:09:41\n",
      "INFO:tensorflow:Graph was finalized.\n",
      "INFO:tensorflow:Restoring parameters from /tmp/tmp_uly4q10/model.ckpt-10000\n",
      "INFO:tensorflow:Running local_init_op.\n",
      "INFO:tensorflow:Done running local_init_op.\n",
      "INFO:tensorflow:Finished evaluation at 2019-01-30-04:09:42\n",
      "INFO:tensorflow:Saving dict for global step 10000: accuracy = 0.81963354, accuracy_baseline = 0.7611833, auc = 0.81226283, auc_precision_recall = 0.92237824, average_loss = 2.9752991, global_step = 10000, label/mean = 0.7611833, loss = 29065.697, precision = 0.8750661, prediction/mean = 0.7475337, recall = 0.8901291\n",
      "INFO:tensorflow:Saving 'checkpoint_path' summary for global step 10000: /tmp/tmp_uly4q10/model.ckpt-10000\n"
     ]
    },
    {
     "data": {
      "text/plain": [
       "{'accuracy': 0.81963354,\n",
       " 'accuracy_baseline': 0.7611833,\n",
       " 'auc': 0.81226283,\n",
       " 'auc_precision_recall': 0.92237824,\n",
       " 'average_loss': 2.9752991,\n",
       " 'global_step': 10000,\n",
       " 'label/mean': 0.7611833,\n",
       " 'loss': 29065.697,\n",
       " 'precision': 0.8750661,\n",
       " 'prediction/mean': 0.7475337,\n",
       " 'recall': 0.8901291}"
      ]
     },
     "execution_count": 40,
     "metadata": {},
     "output_type": "execute_result"
    }
   ],
   "source": [
    "'''model evaluation'''\n",
    "\n",
    "dnnc.evaluate(eval_fn)"
   ]
  },
  {
   "cell_type": "code",
   "execution_count": 41,
   "metadata": {
    "collapsed": true
   },
   "outputs": [],
   "source": [
    "pred_fn = tf.estimator.inputs.pandas_input_fn(x=X_test,batch_size=len(X_test), shuffle=False)"
   ]
  },
  {
   "cell_type": "code",
   "execution_count": 44,
   "metadata": {},
   "outputs": [
    {
     "name": "stdout",
     "output_type": "stream",
     "text": [
      "INFO:tensorflow:Calling model_fn.\n",
      "INFO:tensorflow:Done calling model_fn.\n",
      "INFO:tensorflow:Graph was finalized.\n",
      "INFO:tensorflow:Restoring parameters from /tmp/tmp_uly4q10/model.ckpt-10000\n",
      "INFO:tensorflow:Running local_init_op.\n",
      "INFO:tensorflow:Done running local_init_op.\n"
     ]
    }
   ],
   "source": [
    "pred = [ i['class_ids'][0] for i in list(dnnc.predict(pred_fn))]"
   ]
  },
  {
   "cell_type": "code",
   "execution_count": 48,
   "metadata": {},
   "outputs": [
    {
     "name": "stdout",
     "output_type": "stream",
     "text": [
      "             precision    recall  f1-score   support\n",
      "\n",
      "          0       0.63      0.59      0.61      2333\n",
      "          1       0.88      0.89      0.88      7436\n",
      "\n",
      "avg / total       0.82      0.82      0.82      9769\n",
      "\n"
     ]
    }
   ],
   "source": [
    "cr = classification_report(y_test,pred)\n",
    "print(cr)"
   ]
  },
  {
   "cell_type": "markdown",
   "metadata": {},
   "source": [
    "# SAVING MODELS"
   ]
  },
  {
   "cell_type": "code",
   "execution_count": 51,
   "metadata": {
    "collapsed": true
   },
   "outputs": [],
   "source": [
    "saver = tf.train.Saver()\n",
    "\n",
    "# used to save the model in the form of session we used to train the model\n",
    "# once all the training ietrations are done\n",
    "# when we run for getting the m and b, is when we save a ckpt (check point of the session)\n",
    "\n",
    "# restore\n",
    "\n",
    "saver.restore(sess,'../<>.ckpt')\n",
    "\n",
    "# from this session we can run as if we have trained the data or just like a continuation point, like storing all the \n",
    "# weights that are being trained till that chpt"
   ]
  },
  {
   "cell_type": "code",
   "execution_count": null,
   "metadata": {
    "collapsed": true
   },
   "outputs": [],
   "source": []
  }
 ],
 "metadata": {
  "kernelspec": {
   "display_name": "Python 3",
   "language": "python",
   "name": "python3"
  },
  "language_info": {
   "codemirror_mode": {
    "name": "ipython",
    "version": 3
   },
   "file_extension": ".py",
   "mimetype": "text/x-python",
   "name": "python",
   "nbconvert_exporter": "python",
   "pygments_lexer": "ipython3",
   "version": "3.5.2"
  }
 },
 "nbformat": 4,
 "nbformat_minor": 2
}
