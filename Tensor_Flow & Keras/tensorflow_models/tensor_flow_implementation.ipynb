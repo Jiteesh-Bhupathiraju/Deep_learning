{
 "cells": [
  {
   "cell_type": "code",
   "execution_count": 2,
   "metadata": {
    "collapsed": true
   },
   "outputs": [],
   "source": [
    "# activation functions\n",
    "\n",
    "# 1. relu, 2. tanh (-) to ) 3. sigmoid\n",
    "\n",
    "# cost \n",
    "\n",
    "# 1. cross entropy, the larger the difference the faster it can learn\n",
    "\n",
    "# epoch\n",
    "\n",
    "# is the number of times the data is feed to the network\n",
    "\n"
   ]
  },
  {
   "cell_type": "markdown",
   "metadata": {},
   "source": [
    "# MANUAL NEURAL NETWORK"
   ]
  },
  {
   "cell_type": "code",
   "execution_count": 1,
   "metadata": {
    "collapsed": true
   },
   "outputs": [],
   "source": [
    "class Operation():\n",
    "    def __init__(self, inp_nodes=[]):\n",
    "        self.inp_nodes = inp_nodes\n",
    "        self.out_nodes = []\n",
    "        \n",
    "        for node in inp_nodes:\n",
    "            node.out_nodes.append(self)\n",
    "        def_graph.operations.append(self)\n",
    "            \n",
    "    def compute(self):\n",
    "        pass\n",
    "        "
   ]
  },
  {
   "cell_type": "code",
   "execution_count": 2,
   "metadata": {
    "collapsed": true
   },
   "outputs": [],
   "source": [
    "'''all the operation classes'''\n",
    "\n",
    "class add(Operation):\n",
    "    \n",
    "    def __init__(self,x,y):\n",
    "        super().__init__([x,y])\n",
    "    def compute(self, x_var, y_var):\n",
    "        return x_var + y_var\n",
    "    \n",
    "class mul(Operation):\n",
    "    \n",
    "    def __init__(self,x,y):\n",
    "        super().__init__([x,y])\n",
    "    def compute(self, x_var, y_var):\n",
    "        return x_var * y_var\n",
    "    \n",
    "class matmul(Operation):\n",
    "    \n",
    "    def __init__(self,x,y):\n",
    "        super().__init__([x,y])\n",
    "    def compute(self, x_var, y_var):\n",
    "        return x_var.dot(y_var)"
   ]
  },
  {
   "cell_type": "code",
   "execution_count": 3,
   "metadata": {
    "collapsed": true
   },
   "outputs": [],
   "source": [
    "'''place holders and variables'''\n",
    "\n",
    "class place_holder():\n",
    "    \n",
    "    def __init__(self):\n",
    "        self.out_nodes=[]\n",
    "        def_graph.place_holders.append(self)\n",
    "        \n",
    "class variable():\n",
    "    def __init__(self, init_val=None):\n",
    "        self.value = init_val\n",
    "        self.out_nodes = []\n",
    "        \n",
    "        def_graph.variables.append(self)\n",
    "        "
   ]
  },
  {
   "cell_type": "code",
   "execution_count": 4,
   "metadata": {
    "collapsed": true
   },
   "outputs": [],
   "source": [
    "'''graph for execution and workflow'''\n",
    "\n",
    "class graph():\n",
    "    \n",
    "    def __init__(self):\n",
    "        \n",
    "        self.operations=[]\n",
    "        self.place_holders=[]\n",
    "        self.variables=[]\n",
    "        \n",
    "    def set_as_def(self):\n",
    "        global def_graph\n",
    "        def_graph = self"
   ]
  },
  {
   "cell_type": "code",
   "execution_count": 5,
   "metadata": {
    "collapsed": true
   },
   "outputs": [],
   "source": [
    "# z = Ax + b\n",
    "\n",
    "# A = 10 and b =1 "
   ]
  },
  {
   "cell_type": "code",
   "execution_count": 6,
   "metadata": {
    "collapsed": true
   },
   "outputs": [],
   "source": [
    "g = graph()\n",
    "g.set_as_def()\n",
    "\n",
    "A = variable(10)\n",
    "b = variable(1)\n",
    "\n",
    "x = place_holder()"
   ]
  },
  {
   "cell_type": "code",
   "execution_count": 7,
   "metadata": {
    "collapsed": true
   },
   "outputs": [],
   "source": [
    "y = mul(A,x)\n",
    "\n",
    "z = add(y,b)"
   ]
  },
  {
   "cell_type": "markdown",
   "metadata": {},
   "source": [
    "# setting the post order flow"
   ]
  },
  {
   "cell_type": "code",
   "execution_count": 8,
   "metadata": {
    "collapsed": true
   },
   "outputs": [],
   "source": [
    "def post_order(operation):\n",
    "    nodes=[]\n",
    "    def recur(node):\n",
    "        if isinstance(node, Operation):\n",
    "            for i in node.inp_nodes:   # just making sure we traverse the child nodes first than the parent node\n",
    "                recur(i)\n",
    "        nodes.append(node)\n",
    "    recur(operation)\n",
    "    \n",
    "    return nodes\n",
    "\n"
   ]
  },
  {
   "cell_type": "code",
   "execution_count": 9,
   "metadata": {
    "collapsed": true
   },
   "outputs": [],
   "source": [
    "import numpy as np\n",
    "\n",
    "'''executing the complete graph'''\n",
    "\n",
    "class session():\n",
    "    \n",
    "    def run(self,operation, feed_dict={}):\n",
    "        nodes_order = post_order(operation)\n",
    "        \n",
    "        for node in nodes_order:\n",
    "            if type(node) == place_holder:\n",
    "                node.output = feed_dict[node]\n",
    "            elif type(node) == variable:\n",
    "                node.output = node.value\n",
    "                \n",
    "            else:\n",
    "                node.inputs = [i.output for i in node.inp_nodes ]\n",
    "                node.output = node.compute(*node.inputs)\n",
    "            if type(node.output) == list:\n",
    "                node.output = np.array(node.output)\n",
    "        return operation.output"
   ]
  },
  {
   "cell_type": "code",
   "execution_count": 10,
   "metadata": {},
   "outputs": [
    {
     "data": {
      "text/plain": [
       "101"
      ]
     },
     "execution_count": 10,
     "metadata": {},
     "output_type": "execute_result"
    }
   ],
   "source": [
    "sess=session()\n",
    "res = sess.run(operation=z, feed_dict={x:10})\n",
    "\n",
    "res"
   ]
  },
  {
   "cell_type": "code",
   "execution_count": 11,
   "metadata": {
    "collapsed": true
   },
   "outputs": [],
   "source": [
    "g = graph()\n",
    "\n",
    "g.set_as_def()\n",
    "\n",
    "A = variable([[10,20],[30,40]])\n",
    "b = variable([1,2,])\n",
    "\n",
    "x = place_holder()\n",
    "\n",
    "y = matmul(A,x)\n",
    "z = add(y,b)"
   ]
  },
  {
   "cell_type": "code",
   "execution_count": 12,
   "metadata": {},
   "outputs": [
    {
     "data": {
      "text/plain": [
       "array([[101, 202],\n",
       "       [301, 402]])"
      ]
     },
     "execution_count": 12,
     "metadata": {},
     "output_type": "execute_result"
    }
   ],
   "source": [
    "sess=session()\n",
    "res = sess.run(operation=z, feed_dict={x:10})\n",
    "\n",
    "res"
   ]
  },
  {
   "cell_type": "markdown",
   "metadata": {},
   "source": [
    "# CLASSIFICATION"
   ]
  },
  {
   "cell_type": "code",
   "execution_count": 13,
   "metadata": {
    "collapsed": true
   },
   "outputs": [],
   "source": [
    "class sigmoid_op(Operation):\n",
    "    def __init__(self,z):\n",
    "        super().__init__([z])\n",
    "        \n",
    "    def compute(z_val):\n",
    "        return 1/(1+exp(-z_val))"
   ]
  },
  {
   "cell_type": "code",
   "execution_count": 14,
   "metadata": {
    "collapsed": true
   },
   "outputs": [],
   "source": [
    "from sklearn.datasets import make_blobs"
   ]
  },
  {
   "cell_type": "code",
   "execution_count": 15,
   "metadata": {
    "collapsed": true
   },
   "outputs": [],
   "source": [
    "data= make_blobs(n_samples=50, n_features=2, centers=2, random_state=0)"
   ]
  },
  {
   "cell_type": "code",
   "execution_count": 16,
   "metadata": {
    "collapsed": true
   },
   "outputs": [],
   "source": [
    "features = data[0]\n",
    "lables = data[1]"
   ]
  },
  {
   "cell_type": "code",
   "execution_count": 17,
   "metadata": {
    "collapsed": true
   },
   "outputs": [],
   "source": [
    "g = graph()\n",
    "g.set_as_def()\n",
    "x = place_holder()\n",
    "w = variable([1,1])\n",
    "b = variable(-5)\n",
    "z = add(matmul(w,x),b)\n",
    "a = sigmoid_op(z)"
   ]
  },
  {
   "cell_type": "code",
   "execution_count": 19,
   "metadata": {
    "collapsed": true
   },
   "outputs": [],
   "source": [
    "sess=session()\n",
    "sess.run(operation=a,feed_dict={x:[8,10]})"
   ]
  },
  {
   "cell_type": "code",
   "execution_count": null,
   "metadata": {
    "collapsed": true
   },
   "outputs": [],
   "source": []
  }
 ],
 "metadata": {
  "kernelspec": {
   "display_name": "Python 3",
   "language": "python",
   "name": "python3"
  },
  "language_info": {
   "codemirror_mode": {
    "name": "ipython",
    "version": 3
   },
   "file_extension": ".py",
   "mimetype": "text/x-python",
   "name": "python",
   "nbconvert_exporter": "python",
   "pygments_lexer": "ipython3",
   "version": "3.5.2"
  }
 },
 "nbformat": 4,
 "nbformat_minor": 2
}
