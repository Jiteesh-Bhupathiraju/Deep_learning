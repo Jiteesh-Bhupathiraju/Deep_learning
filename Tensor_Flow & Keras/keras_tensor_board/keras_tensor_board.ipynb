{
 "cells": [
  {
   "cell_type": "code",
   "execution_count": 1,
   "metadata": {
    "collapsed": true
   },
   "outputs": [],
   "source": [
    "from sklearn.datasets import load_wine\n",
    "from sklearn.model_selection import train_test_split\n",
    "from sklearn.preprocessing import MinMaxScaler\n",
    "import tensorflow as tf\n",
    "from tensorflow import estimator\n",
    "import pandas as pd"
   ]
  },
  {
   "cell_type": "code",
   "execution_count": 2,
   "metadata": {
    "collapsed": true
   },
   "outputs": [],
   "source": [
    "'''Wine Data'''\n",
    "\n",
    "scaler =  MinMaxScaler()\n",
    "wine_data = load_wine()\n",
    "features = wine_data['data']\n",
    "lables = wine_data['target']"
   ]
  },
  {
   "cell_type": "code",
   "execution_count": 8,
   "metadata": {
    "collapsed": true
   },
   "outputs": [],
   "source": [
    "'''Data Split'''\n",
    "\n",
    "x_train, x_test, y_train, y_test = train_test_split(features,lables,test_size=0.3,random_state = 101)\n",
    "x_train = scaler.fit_transform(x_train)\n",
    "x_test =scaler.transform(x_test)"
   ]
  },
  {
   "cell_type": "code",
   "execution_count": 16,
   "metadata": {
    "collapsed": true
   },
   "outputs": [],
   "source": [
    "feat_cols = tf.feature_column.numeric_column('x',shape=[13])"
   ]
  },
  {
   "cell_type": "markdown",
   "metadata": {},
   "source": [
    "# KERAS"
   ]
  },
  {
   "cell_type": "code",
   "execution_count": 18,
   "metadata": {
    "collapsed": true
   },
   "outputs": [],
   "source": [
    "from tensorflow.contrib.keras import models\n",
    "from tensorflow.contrib.keras import layers\n",
    "from tensorflow.contrib.keras import losses, optimizers,metrics, activations\n",
    "from sklearn.metrics import classification_report\n",
    "from tensorflow.contrib.layers import fully_connected"
   ]
  },
  {
   "cell_type": "code",
   "execution_count": 19,
   "metadata": {
    "collapsed": true
   },
   "outputs": [],
   "source": [
    "dnn_keras = models.Sequential()"
   ]
  },
  {
   "cell_type": "code",
   "execution_count": 23,
   "metadata": {
    "collapsed": true
   },
   "outputs": [],
   "source": [
    "'''DNN Architecture'''\n",
    "\n",
    "dnn_keras.add(layers.Dense(units=13,input_dim=13, activation='relu'))\n",
    "dnn_keras.add(layers.Dense(units=13, activation='relu'))\n",
    "dnn_keras.add(layers.Dense(units=13, activation='relu'))\n",
    "dnn_keras.add(layers.Dense(units=3, activation='softmax'))"
   ]
  },
  {
   "cell_type": "code",
   "execution_count": 25,
   "metadata": {
    "collapsed": true
   },
   "outputs": [],
   "source": [
    "'''Optimizer'''\n",
    "\n",
    "dnn_keras.compile(optimizer='adam',loss='sparse_categorical_crossentropy', metrics=['accuracy'])"
   ]
  },
  {
   "cell_type": "code",
   "execution_count": 26,
   "metadata": {},
   "outputs": [
    {
     "name": "stdout",
     "output_type": "stream",
     "text": [
      "Epoch 1/50\n",
      "124/124 [==============================] - 1s 7ms/step - loss: 1.1009 - acc: 0.2661\n",
      "Epoch 2/50\n",
      "124/124 [==============================] - 0s 191us/step - loss: 1.0985 - acc: 0.3790\n",
      "Epoch 3/50\n",
      "124/124 [==============================] - 0s 145us/step - loss: 1.0965 - acc: 0.3871\n",
      "Epoch 4/50\n",
      "124/124 [==============================] - 0s 163us/step - loss: 1.0944 - acc: 0.3952\n",
      "Epoch 5/50\n",
      "124/124 [==============================] - 0s 200us/step - loss: 1.0930 - acc: 0.3871\n",
      "Epoch 6/50\n",
      "124/124 [==============================] - 0s 199us/step - loss: 1.0910 - acc: 0.3952\n",
      "Epoch 7/50\n",
      "124/124 [==============================] - 0s 143us/step - loss: 1.0884 - acc: 0.3952\n",
      "Epoch 8/50\n",
      "124/124 [==============================] - 0s 190us/step - loss: 1.0855 - acc: 0.3952\n",
      "Epoch 9/50\n",
      "124/124 [==============================] - 0s 153us/step - loss: 1.0819 - acc: 0.3952\n",
      "Epoch 10/50\n",
      "124/124 [==============================] - 0s 161us/step - loss: 1.0783 - acc: 0.3952\n",
      "Epoch 11/50\n",
      "124/124 [==============================] - 0s 233us/step - loss: 1.0739 - acc: 0.3952\n",
      "Epoch 12/50\n",
      "124/124 [==============================] - 0s 146us/step - loss: 1.0691 - acc: 0.3952\n",
      "Epoch 13/50\n",
      "124/124 [==============================] - 0s 267us/step - loss: 1.0624 - acc: 0.4194\n",
      "Epoch 14/50\n",
      "124/124 [==============================] - 0s 196us/step - loss: 1.0538 - acc: 0.4274\n",
      "Epoch 15/50\n",
      "124/124 [==============================] - 0s 181us/step - loss: 1.0431 - acc: 0.5565\n",
      "Epoch 16/50\n",
      "124/124 [==============================] - 0s 244us/step - loss: 1.0307 - acc: 0.6532\n",
      "Epoch 17/50\n",
      "124/124 [==============================] - 0s 188us/step - loss: 1.0156 - acc: 0.6935\n",
      "Epoch 18/50\n",
      "124/124 [==============================] - 0s 125us/step - loss: 0.9970 - acc: 0.7419\n",
      "Epoch 19/50\n",
      "124/124 [==============================] - 0s 234us/step - loss: 0.9754 - acc: 0.7903\n",
      "Epoch 20/50\n",
      "124/124 [==============================] - 0s 204us/step - loss: 0.9466 - acc: 0.8468\n",
      "Epoch 21/50\n",
      "124/124 [==============================] - 0s 184us/step - loss: 0.9151 - acc: 0.8306\n",
      "Epoch 22/50\n",
      "124/124 [==============================] - 0s 182us/step - loss: 0.8792 - acc: 0.8065\n",
      "Epoch 23/50\n",
      "124/124 [==============================] - 0s 232us/step - loss: 0.8371 - acc: 0.8387\n",
      "Epoch 24/50\n",
      "124/124 [==============================] - 0s 225us/step - loss: 0.7941 - acc: 0.8710\n",
      "Epoch 25/50\n",
      "124/124 [==============================] - 0s 182us/step - loss: 0.7453 - acc: 0.8790\n",
      "Epoch 26/50\n",
      "124/124 [==============================] - 0s 261us/step - loss: 0.6914 - acc: 0.8710\n",
      "Epoch 27/50\n",
      "124/124 [==============================] - 0s 175us/step - loss: 0.6389 - acc: 0.8790\n",
      "Epoch 28/50\n",
      "124/124 [==============================] - 0s 192us/step - loss: 0.5871 - acc: 0.8952\n",
      "Epoch 29/50\n",
      "124/124 [==============================] - 0s 208us/step - loss: 0.5371 - acc: 0.9032\n",
      "Epoch 30/50\n",
      "124/124 [==============================] - 0s 173us/step - loss: 0.4893 - acc: 0.9274\n",
      "Epoch 31/50\n",
      "124/124 [==============================] - 0s 190us/step - loss: 0.4448 - acc: 0.9435\n",
      "Epoch 32/50\n",
      "124/124 [==============================] - 0s 225us/step - loss: 0.4013 - acc: 0.9516\n",
      "Epoch 33/50\n",
      "124/124 [==============================] - 0s 211us/step - loss: 0.3544 - acc: 0.9597\n",
      "Epoch 34/50\n",
      "124/124 [==============================] - 0s 261us/step - loss: 0.3089 - acc: 0.9597\n",
      "Epoch 35/50\n",
      "124/124 [==============================] - 0s 167us/step - loss: 0.2612 - acc: 0.9677\n",
      "Epoch 36/50\n",
      "124/124 [==============================] - 0s 263us/step - loss: 0.2230 - acc: 0.9758\n",
      "Epoch 37/50\n",
      "124/124 [==============================] - 0s 238us/step - loss: 0.1870 - acc: 0.9758\n",
      "Epoch 38/50\n",
      "124/124 [==============================] - 0s 248us/step - loss: 0.1535 - acc: 0.9839\n",
      "Epoch 39/50\n",
      "124/124 [==============================] - 0s 207us/step - loss: 0.1381 - acc: 0.9839\n",
      "Epoch 40/50\n",
      "124/124 [==============================] - ETA: 0s - loss: 0.1412 - acc: 0.968 - 0s 305us/step - loss: 0.1063 - acc: 0.9919\n",
      "Epoch 41/50\n",
      "124/124 [==============================] - 0s 176us/step - loss: 0.0931 - acc: 0.9839\n",
      "Epoch 42/50\n",
      "124/124 [==============================] - 0s 206us/step - loss: 0.0772 - acc: 0.9839\n",
      "Epoch 43/50\n",
      "124/124 [==============================] - 0s 203us/step - loss: 0.0657 - acc: 0.9919\n",
      "Epoch 44/50\n",
      "124/124 [==============================] - 0s 253us/step - loss: 0.0602 - acc: 0.9919\n",
      "Epoch 45/50\n",
      "124/124 [==============================] - 0s 182us/step - loss: 0.0499 - acc: 1.0000\n",
      "Epoch 46/50\n",
      "124/124 [==============================] - 0s 155us/step - loss: 0.0463 - acc: 0.9919\n",
      "Epoch 47/50\n",
      "124/124 [==============================] - 0s 164us/step - loss: 0.0389 - acc: 1.0000\n",
      "Epoch 48/50\n",
      "124/124 [==============================] - 0s 140us/step - loss: 0.0394 - acc: 1.0000\n",
      "Epoch 49/50\n",
      "124/124 [==============================] - 0s 172us/step - loss: 0.0338 - acc: 1.0000\n",
      "Epoch 50/50\n",
      "124/124 [==============================] - 0s 102us/step - loss: 0.0307 - acc: 1.0000\n"
     ]
    },
    {
     "data": {
      "text/plain": [
       "<tensorflow.python.keras.callbacks.History at 0x7fd166eee4e0>"
      ]
     },
     "execution_count": 26,
     "metadata": {},
     "output_type": "execute_result"
    }
   ],
   "source": [
    "dnn_keras.fit(x_train,y_train,epochs=50)"
   ]
  },
  {
   "cell_type": "code",
   "execution_count": 27,
   "metadata": {
    "collapsed": true
   },
   "outputs": [],
   "source": [
    "pred = dnn_keras.predict_classes(x_test)"
   ]
  },
  {
   "cell_type": "code",
   "execution_count": 29,
   "metadata": {},
   "outputs": [
    {
     "name": "stdout",
     "output_type": "stream",
     "text": [
      "             precision    recall  f1-score   support\n",
      "\n",
      "          0       1.00      1.00      1.00        19\n",
      "          1       1.00      1.00      1.00        22\n",
      "          2       1.00      1.00      1.00        13\n",
      "\n",
      "avg / total       1.00      1.00      1.00        54\n",
      "\n"
     ]
    }
   ],
   "source": [
    "print(classification_report(pred,y_test))"
   ]
  },
  {
   "cell_type": "markdown",
   "metadata": {},
   "source": [
    "# LAYERS"
   ]
  },
  {
   "cell_type": "code",
   "execution_count": 34,
   "metadata": {},
   "outputs": [
    {
     "name": "stderr",
     "output_type": "stream",
     "text": [
      "/usr/local/lib/python3.5/dist-packages/ipykernel_launcher.py:1: FutureWarning: Method .as_matrix will be removed in a future version. Use .values instead.\n",
      "  \"\"\"Entry point for launching an IPython kernel.\n",
      "/usr/local/lib/python3.5/dist-packages/ipykernel_launcher.py:2: FutureWarning: Method .as_matrix will be removed in a future version. Use .values instead.\n",
      "  \n"
     ]
    }
   ],
   "source": [
    "# one hot encoding of the class labels\n",
    "\n",
    "one_hot_y_train = pd.get_dummies(y_train).as_matrix()\n",
    "one_hot_y_test = pd.get_dummies(y_test).as_matrix()"
   ]
  },
  {
   "cell_type": "code",
   "execution_count": 33,
   "metadata": {
    "collapsed": true
   },
   "outputs": [],
   "source": [
    "# number of units in each hidden layer\n",
    "\n",
    "num_feat = 13\n",
    "num_hidden1=13\n",
    "num_hidden2 = 13\n",
    "n_output = 3\n",
    "learn_rate = 0.01"
   ]
  },
  {
   "cell_type": "code",
   "execution_count": 37,
   "metadata": {
    "collapsed": true
   },
   "outputs": [],
   "source": [
    "'''place holders'''\n",
    "\n",
    "x = tf.placeholder(tf.float32,shape=[None, num_feat])\n",
    "y_true = tf.placeholder(tf.float32, shape=[None,3])"
   ]
  },
  {
   "cell_type": "code",
   "execution_count": 38,
   "metadata": {
    "collapsed": true
   },
   "outputs": [],
   "source": [
    "actiavtion_fucntion = tf.nn.relu"
   ]
  },
  {
   "cell_type": "code",
   "execution_count": 40,
   "metadata": {
    "collapsed": true
   },
   "outputs": [],
   "source": [
    "'''fully connected hidden layers'''\n",
    "\n",
    "hidden1 = fully_connected(x,num_hidden1, actiavtion_fucntion=actf)\n",
    "hidden2 = fully_connected(hidden1,num_hidden2, actiavtion_fucntion=actf)\n",
    "output = fully_connected(hidden2, n_output)"
   ]
  },
  {
   "cell_type": "code",
   "execution_count": 41,
   "metadata": {
    "collapsed": true
   },
   "outputs": [],
   "source": [
    "'''loss minimization'''\n",
    "\n",
    "loss = tf.losses.softmax_cross_entropy(onehot_labels=y_true, logits=output)\n",
    "optimize = tf.train.AdamOptimizer(learn_rate)\n",
    "train = optimize.minimize(loss)"
   ]
  },
  {
   "cell_type": "code",
   "execution_count": 50,
   "metadata": {
    "collapsed": true
   },
   "outputs": [],
   "source": [
    "'''Train Session'''\n",
    "\n",
    "with tf.Session() as sess:\n",
    "    sess.run(tf.global_variables_initializer())\n",
    "    \n",
    "    for i in range(20):\n",
    "        sess.run(train, feed_dict = {x:x_train, y_true:one_hot_y_train})\n",
    "        \n",
    "    logits  = opt.eval(feed_dict={x:x_test})\n",
    "    preds = tf.argmax(logits, axis=1)\n",
    "    \n",
    "    results = preds.eval()"
   ]
  },
  {
   "cell_type": "code",
   "execution_count": 52,
   "metadata": {},
   "outputs": [
    {
     "name": "stdout",
     "output_type": "stream",
     "text": [
      "             precision    recall  f1-score   support\n",
      "\n",
      "          0       0.84      0.62      0.71        26\n",
      "          1       1.00      0.79      0.88        28\n",
      "          2       0.00      0.00      0.00         0\n",
      "\n",
      "avg / total       0.92      0.70      0.80        54\n",
      "\n"
     ]
    },
    {
     "name": "stderr",
     "output_type": "stream",
     "text": [
      "/usr/local/lib/python3.5/dist-packages/sklearn/metrics/classification.py:1137: UndefinedMetricWarning: Recall and F-score are ill-defined and being set to 0.0 in labels with no true samples.\n",
      "  'recall', 'true', average, warn_for)\n"
     ]
    }
   ],
   "source": [
    "'''evaluation metrics'''\n",
    "\n",
    "print(classification_report(results, y_test))"
   ]
  },
  {
   "cell_type": "markdown",
   "metadata": {},
   "source": [
    "# TENSOR BOARD"
   ]
  },
  {
   "cell_type": "code",
   "execution_count": 58,
   "metadata": {},
   "outputs": [
    {
     "name": "stdout",
     "output_type": "stream",
     "text": [
      "21\n"
     ]
    }
   ],
   "source": [
    "a = tf.add(1,2)\n",
    "b = tf.add(3,4)\n",
    "c = tf.multiply(a,b)\n",
    "\n",
    "with tf.Session() as sess:\n",
    "    writer = tf.summary.FileWriter(\"./output\", sess.graph)\n",
    "    print(sess.run(c))\n",
    "    writer.close()"
   ]
  }
 ],
 "metadata": {
  "kernelspec": {
   "display_name": "Python 3",
   "language": "python",
   "name": "python3"
  },
  "language_info": {
   "codemirror_mode": {
    "name": "ipython",
    "version": 3
   },
   "file_extension": ".py",
   "mimetype": "text/x-python",
   "name": "python",
   "nbconvert_exporter": "python",
   "pygments_lexer": "ipython3",
   "version": "3.5.2"
  }
 },
 "nbformat": 4,
 "nbformat_minor": 2
}
